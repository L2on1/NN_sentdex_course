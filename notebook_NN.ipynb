{
 "cells": [
  {
   "cell_type": "markdown",
   "metadata": {},
   "source": [
    "# Notebook on the Neural Network course of Sentdex"
   ]
  },
  {
   "cell_type": "code",
   "execution_count": 3,
   "metadata": {},
   "outputs": [],
   "source": [
    "import matplotlib as plt\n",
    "import numpy as np"
   ]
  },
  {
   "cell_type": "markdown",
   "metadata": {},
   "source": [
    "#### Video 1\n",
    "On travaille ici sur notre premier neurone avec 3 entrées avec son poid respectif et puis le biais du neurone et enfin sa sorti \n",
    "Qu'est ce qu'un neurone ? \n",
    "C'est un objet qui fait la multiplication de ses entrées avec leur poids respectif et la somme de ces resultats avec le biais\n",
    "\n",
    "<img src=\"./media/video2_1_neurone.png\">"
   ]
  },
  {
   "cell_type": "code",
   "execution_count": 11,
   "metadata": {},
   "outputs": [
    {
     "name": "stdout",
     "output_type": "stream",
     "text": [
      "2.3\n"
     ]
    }
   ],
   "source": [
    "inputs = [1, 2 ,3]\n",
    "weights = [0.2, 0.8, -0.5]\n",
    "biais = 2\n",
    "\n",
    "output = np.sum([inputs[i]*weights[i] for i in range(0,len(inputs))]) + biais\n",
    "print(output)"
   ]
  },
  {
   "cell_type": "markdown",
   "metadata": {},
   "source": [
    "#### Video 2"
   ]
  },
  {
   "cell_type": "markdown",
   "metadata": {},
   "source": [
    "les input peuvent etre des données de capteurs"
   ]
  },
  {
   "cell_type": "code",
   "execution_count": 12,
   "metadata": {},
   "outputs": [
    {
     "name": "stdout",
     "output_type": "stream",
     "text": [
      "4.8\n"
     ]
    }
   ],
   "source": [
    "inputs = [1, 2 ,3, 2.5]\n",
    "weights = [0.2, 0.8, -0.5, 1]\n",
    "biais = 2\n",
    "\n",
    "output = np.sum([inputs[i]*weights[i] for i in range(0,len(inputs))]) + biais\n",
    "print(output)"
   ]
  },
  {
   "cell_type": "markdown",
   "metadata": {},
   "source": [
    "Et si on faisait 3 neurones avec 4 entrées\n",
    "\n",
    "![mon_image](./media/video2_4neurones_4entres.png)"
   ]
  },
  {
   "cell_type": "code",
   "execution_count": 26,
   "metadata": {},
   "outputs": [
    {
     "name": "stdout",
     "output_type": "stream",
     "text": [
      "[[4.8  ]\n",
      " [1.21 ]\n",
      " [2.385]]\n"
     ]
    }
   ],
   "source": [
    "inputs = [1, 2 ,3, 2.5]\n",
    "\n",
    "weights=[\n",
    "    [0.2, 0.8, -0.5, 1.0],\n",
    "    [0.5, -0.91, 0.26, -0.5],\n",
    "    [-0.26, -0.27, 0.17, 0.87]\n",
    "    ]\n",
    "\n",
    "biais = [[2],[3],[0.5]]\n",
    "\n",
    "output=np.zeros((3,1))\n",
    "\n",
    "for i in range(0,np.shape(weights)[0]) :\n",
    "    output[i][0] = np.sum([inputs[j]*weights[i][j] for j in range(0,len(inputs))]) + biais[i][0]\n",
    "print(output)"
   ]
  },
  {
   "cell_type": "code",
   "execution_count": 23,
   "metadata": {},
   "outputs": [
    {
     "data": {
      "text/plain": [
       "3"
      ]
     },
     "execution_count": 23,
     "metadata": {},
     "output_type": "execute_result"
    }
   ],
   "source": [
    "biais = [[2],[3],[0.5]]\n",
    "biais[1][0]"
   ]
  }
 ],
 "metadata": {
  "kernelspec": {
   "display_name": "Python 3.9.12 ('OC_library')",
   "language": "python",
   "name": "python3"
  },
  "language_info": {
   "codemirror_mode": {
    "name": "ipython",
    "version": 3
   },
   "file_extension": ".py",
   "mimetype": "text/x-python",
   "name": "python",
   "nbconvert_exporter": "python",
   "pygments_lexer": "ipython3",
   "version": "3.9.12"
  },
  "orig_nbformat": 4,
  "vscode": {
   "interpreter": {
    "hash": "2f43c9b916d3b44a8b7c02f385ad4db6e8dcb5cb089487eeac82ee13e9872666"
   }
  }
 },
 "nbformat": 4,
 "nbformat_minor": 2
}
