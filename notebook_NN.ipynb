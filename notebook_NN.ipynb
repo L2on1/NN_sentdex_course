{
 "cells": [
  {
   "cell_type": "markdown",
   "metadata": {},
   "source": [
    "# Notebook on the Neural Network course of Sentdex"
   ]
  },
  {
   "cell_type": "code",
   "execution_count": 48,
   "metadata": {},
   "outputs": [],
   "source": [
    "import matplotlib as plt\n",
    "import numpy as np\n"
   ]
  },
  {
   "cell_type": "markdown",
   "metadata": {},
   "source": [
    "#### Video 1\n",
    "On travaille ici sur notre premier neurone avec 3 entrées avec son poid respectif et puis le biais du neurone et enfin sa sorti \n",
    "Qu'est ce qu'un neurone ? \n",
    "C'est un objet qui fait la multiplication de ses entrées avec leur poids respectif et la somme de ces resultats avec le biais\n",
    "\n",
    "<img src=\"./media/video2_1_neurone.png\">"
   ]
  },
  {
   "cell_type": "code",
   "execution_count": 49,
   "metadata": {},
   "outputs": [
    {
     "name": "stdout",
     "output_type": "stream",
     "text": [
      "2.3\n"
     ]
    }
   ],
   "source": [
    "inputs = [1, 2, 3]\n",
    "weights = [0.2, 0.8, -0.5]\n",
    "biais = 2\n",
    "\n",
    "output = np.sum([inputs[i] * weights[i] for i in range(0, len(inputs))]) + biais\n",
    "print(output)\n"
   ]
  },
  {
   "cell_type": "markdown",
   "metadata": {},
   "source": [
    "#### Video 2"
   ]
  },
  {
   "cell_type": "markdown",
   "metadata": {},
   "source": [
    "les input peuvent etre des données de capteurs"
   ]
  },
  {
   "cell_type": "code",
   "execution_count": 50,
   "metadata": {},
   "outputs": [
    {
     "name": "stdout",
     "output_type": "stream",
     "text": [
      "4.8\n"
     ]
    }
   ],
   "source": [
    "inputs = [1, 2, 3, 2.5]\n",
    "weights = [0.2, 0.8, -0.5, 1]\n",
    "biais = 2\n",
    "\n",
    "output = np.sum([inputs[i] * weights[i] for i in range(0, len(inputs))]) + biais\n",
    "print(output)\n"
   ]
  },
  {
   "cell_type": "markdown",
   "metadata": {},
   "source": [
    "Et si on faisait 3 neurones avec 4 entrées\n",
    "\n",
    "![mon_image](./media/video2_4neurones_4entres.png)"
   ]
  },
  {
   "cell_type": "code",
   "execution_count": 51,
   "metadata": {},
   "outputs": [
    {
     "name": "stdout",
     "output_type": "stream",
     "text": [
      "[[4.8  ]\n",
      " [1.21 ]\n",
      " [2.385]]\n"
     ]
    }
   ],
   "source": [
    "inputs = [1, 2 ,3, 2.5]\n",
    "\n",
    "weights=[\n",
    "    [0.2, 0.8, -0.5, 1.0],\n",
    "    [0.5, -0.91, 0.26, -0.5],\n",
    "    [-0.26, -0.27, 0.17, 0.87]\n",
    "    ]\n",
    "\n",
    "biais = [[2],[3],[0.5]]\n",
    "\n",
    "output=np.zeros((3,1))\n",
    "\n",
    "for i in range(0,np.shape(np.array(weights))[0]) :\n",
    "    output[i][0] = np.sum([inputs[j]*weights[i][j] for j in range(0,len(inputs))]) + biais[i][0]\n",
    "print(output)"
   ]
  },
  {
   "cell_type": "code",
   "execution_count": 52,
   "metadata": {},
   "outputs": [
    {
     "data": {
      "text/plain": [
       "3"
      ]
     },
     "execution_count": 52,
     "metadata": {},
     "output_type": "execute_result"
    }
   ],
   "source": [
    "biais = [[2], [3], [0.5]]\n",
    "biais[1][0]\n"
   ]
  },
  {
   "cell_type": "markdown",
   "metadata": {},
   "source": [
    "#### Video 3"
   ]
  },
  {
   "cell_type": "markdown",
   "metadata": {},
   "source": [
    "il reecrit avec des loop. Ce que j'avais deja fait ma comme ca j'ai la meme version que dans le cours.\n",
    "Le tout sans matrice\n"
   ]
  },
  {
   "cell_type": "code",
   "execution_count": 53,
   "metadata": {},
   "outputs": [
    {
     "name": "stdout",
     "output_type": "stream",
     "text": [
      "[4.800000000000001, 1.21, 2.385]\n"
     ]
    }
   ],
   "source": [
    "inputs = [1, 2 ,3, 2.5]\n",
    "\n",
    "weights=[\n",
    "    [0.2, 0.8, -0.5, 1.0],\n",
    "    [0.5, -0.91, 0.26, -0.5],\n",
    "    [-0.26, -0.27, 0.17, 0.87]\n",
    "    ]\n",
    "\n",
    "biais = [2, 3, 0.5]\n",
    "\n",
    "layer_output = []\n",
    "for neuron_weights, neuron_biais in zip(weights, biais):\n",
    "    neuron_output = neuron_biais\n",
    "    for n_input, weight in zip(inputs, neuron_weights):\n",
    "        neuron_output += n_input*weight\n",
    "    layer_output.append(neuron_output)\n",
    "    \n",
    "print(layer_output)"
   ]
  },
  {
   "cell_type": "markdown",
   "metadata": {},
   "source": [
    "Maintenat le tout en matrice"
   ]
  },
  {
   "cell_type": "code",
   "execution_count": 54,
   "metadata": {},
   "outputs": [
    {
     "name": "stdout",
     "output_type": "stream",
     "text": [
      "[4.8   1.21  2.385]\n"
     ]
    }
   ],
   "source": [
    "inputs = [1, 2 ,3, 2.5]\n",
    "\n",
    "weights=[\n",
    "    [0.2, 0.8, -0.5, 1.0],\n",
    "    [0.5, -0.91, 0.26, -0.5],\n",
    "    [-0.26, -0.27, 0.17, 0.87]\n",
    "    ]\n",
    "\n",
    "biais = [2, 3, 0.5]\n",
    "\n",
    "\n",
    "weights_t = np.transpose(np.array(weights))\n",
    "\n",
    "outputs = inputs @ weights_t + biais\n",
    "\n",
    "print(outputs)"
   ]
  },
  {
   "cell_type": "markdown",
   "metadata": {},
   "source": [
    "#### Video4"
   ]
  },
  {
   "cell_type": "markdown",
   "metadata": {},
   "source": [
    "On va maintenant prendre plusieur entrées a la fois. On appelle ça le **batch**"
   ]
  },
  {
   "cell_type": "code",
   "execution_count": 55,
   "metadata": {},
   "outputs": [
    {
     "name": "stdout",
     "output_type": "stream",
     "text": [
      "[[ 4.8    1.21   2.385]\n",
      " [ 8.9   -1.81   0.2  ]\n",
      " [ 1.41   1.051  0.026]]\n"
     ]
    }
   ],
   "source": [
    "inputs = [[1, 2 ,3, 2.5],\n",
    "          [2.0, 5.0,-1.0, 2.0],\n",
    "          [-1.5, 2.7, 3.3, -0.8]]\n",
    "\n",
    "weights=[\n",
    "    [0.2, 0.8, -0.5, 1.0],\n",
    "    [0.5, -0.91, 0.26, -0.5],\n",
    "    [-0.26, -0.27, 0.17, 0.87]\n",
    "    ]\n",
    "\n",
    "biais = [2, 3, 0.5]\n",
    "\n",
    "weights_t = np.array(weights).T\n",
    "\n",
    "outputs = inputs @ weights_t + biais\n",
    "\n",
    "print(outputs)"
   ]
  },
  {
   "cell_type": "markdown",
   "metadata": {},
   "source": [
    "On veut mettre une nouvelle layer "
   ]
  },
  {
   "cell_type": "code",
   "execution_count": 56,
   "metadata": {},
   "outputs": [
    {
     "name": "stdout",
     "output_type": "stream",
     "text": [
      "[[ 0.5031  -1.04185 -2.03875]\n",
      " [ 0.2434  -2.7332  -5.7633 ]\n",
      " [-0.99314  1.41254 -0.35655]]\n"
     ]
    }
   ],
   "source": [
    "weights2=[\n",
    "    [0.1, -0.14, 0.5],\n",
    "    [-0.5, 0.12, -0.33],\n",
    "    [-0.44, 0.73, -0.13]\n",
    "    ]\n",
    "\n",
    "biais2 = [-1, 2, -0.5]\n",
    "\n",
    "inputs = [[1, 2 ,3, 2.5],\n",
    "          [2.0, 5.0,-1.0, 2.0],\n",
    "          [-1.5, 2.7, 3.3, -0.8]]\n",
    "\n",
    "weights=[\n",
    "    [0.2, 0.8, -0.5, 1.0],\n",
    "    [0.5, -0.91, 0.26, -0.5],\n",
    "    [-0.26, -0.27, 0.17, 0.87]\n",
    "    ]\n",
    "\n",
    "biais = [2, 3, 0.5]\n",
    "\n",
    "weights_t = np.array(weights).T\n",
    "weights_t2 = np.array(weights2).T\n",
    "\n",
    "layer_out1 = inputs @ weights_t + biais\n",
    "layer_out2 = layer_out1 @ weights_t2 + biais2\n",
    "\n",
    "print(layer_out2)"
   ]
  },
  {
   "cell_type": "markdown",
   "metadata": {},
   "source": [
    "On va maintenant faire ça en objets\n",
    "X : entrée"
   ]
  },
  {
   "cell_type": "code",
   "execution_count": 57,
   "metadata": {},
   "outputs": [
    {
     "name": "stdout",
     "output_type": "stream",
     "text": [
      "[[ 0.14829601 -0.08397602]\n",
      " [ 0.14100316 -0.01340469]\n",
      " [ 0.20124978 -0.07290616]]\n"
     ]
    }
   ],
   "source": [
    "np.random.seed(0)\n",
    "\n",
    "X= [[1, 2 ,3, 2.5],\n",
    "    [2.0, 5.0,-1.0, 2.0],\n",
    "    [-1.5, 2.7, 3.3, -0.8]]\n",
    "    \n",
    "class Layer_Dense:\n",
    "    def __init__(self,n_inputs, n_neurons):\n",
    "        self.weights = 0.1 * np.random.randn(n_inputs, n_neurons)\n",
    "        self.biases = np.zeros((1, n_neurons))\n",
    "    def forward(self, inputs):\n",
    "        self.output = inputs @ self.weights + self.biases\n",
    "        \n",
    "layer1 = Layer_Dense(4,5)\n",
    "layer2 = Layer_Dense(5,2)\n",
    "\n",
    "layer1.forward(X)\n",
    "#print(layer1.output)\n",
    "\n",
    "layer2.forward(layer1.output)\n",
    "print(layer2.output)\n"
   ]
  },
  {
   "cell_type": "markdown",
   "metadata": {},
   "source": [
    "Vdeo 5 : Hidden Layer Activation Functions"
   ]
  },
  {
   "cell_type": "markdown",
   "metadata": {},
   "source": [
    "test d'une foncton ReLU"
   ]
  },
  {
   "cell_type": "code",
   "execution_count": 58,
   "metadata": {},
   "outputs": [
    {
     "name": "stdout",
     "output_type": "stream",
     "text": [
      "[0, 2, 0, 3.3, 0, 1.1, 2.2, 0]\n"
     ]
    }
   ],
   "source": [
    "inputs = [0, 2, -1, 3.3, -2.7, 1.1, 2.2, -100]\n",
    "outputs=[]\n",
    "for i in inputs: \n",
    "    outputs.append(max(0,i))\n",
    "print(outputs)"
   ]
  },
  {
   "cell_type": "markdown",
   "metadata": {},
   "source": [
    "maintenat on va mettra tout ça la dedans"
   ]
  },
  {
   "cell_type": "code",
   "execution_count": 59,
   "metadata": {},
   "outputs": [
    {
     "name": "stdout",
     "output_type": "stream",
     "text": [
      "[[ 0.00000000e+00  0.00000000e+00  0.00000000e+00  0.00000000e+00\n",
      "   0.00000000e+00]\n",
      " [-8.35815910e-04 -7.90404272e-04 -1.33452215e-03  4.65504476e-04\n",
      "   4.56846319e-05]\n",
      " [-2.39994470e-03  5.93471341e-05 -2.24808278e-03  2.03573145e-04\n",
      "   6.10024319e-04]\n",
      " ...\n",
      " [ 1.13291517e-01 -1.89262286e-01 -2.06855088e-02  8.11079666e-02\n",
      "  -6.71350881e-02]\n",
      " [ 1.34588361e-01 -1.43197834e-01  3.09493989e-02  5.66337556e-02\n",
      "  -6.29687458e-02]\n",
      " [ 1.07817926e-01 -2.00809643e-01 -3.37579325e-02  8.72561932e-02\n",
      "  -6.81458786e-02]]\n",
      "[[0.00000000e+00 0.00000000e+00 0.00000000e+00 0.00000000e+00\n",
      "  0.00000000e+00]\n",
      " [0.00000000e+00 0.00000000e+00 0.00000000e+00 4.65504476e-04\n",
      "  4.56846319e-05]\n",
      " [0.00000000e+00 5.93471341e-05 0.00000000e+00 2.03573145e-04\n",
      "  6.10024319e-04]\n",
      " ...\n",
      " [1.13291517e-01 0.00000000e+00 0.00000000e+00 8.11079666e-02\n",
      "  0.00000000e+00]\n",
      " [1.34588361e-01 0.00000000e+00 3.09493989e-02 5.66337556e-02\n",
      "  0.00000000e+00]\n",
      " [1.07817926e-01 0.00000000e+00 0.00000000e+00 8.72561932e-02\n",
      "  0.00000000e+00]]\n"
     ]
    }
   ],
   "source": [
    "import nnfs\n",
    "from nnfs.datasets import spiral_data\n",
    "nnfs.init()\n",
    "\n",
    "np.random.seed(0)\n",
    "\n",
    "X= [[1, 2 ,3, 2.5],\n",
    "    [2.0, 5.0,-1.0, 2.0],\n",
    "    [-1.5, 2.7, 3.3, -0.8]]\n",
    "\n",
    "X, y = spiral_data(100,3)\n",
    "    \n",
    "class Layer_Dense:\n",
    "    def __init__(self, n_inputs, n_neurons):\n",
    "        self.weights = 0.1 * np.random.randn(n_inputs, n_neurons)\n",
    "        self.biases = np.zeros((1, n_neurons))\n",
    "    def forward(self, inputs):\n",
    "        self.output = inputs @ self.weights + self.biases\n",
    "        \n",
    "class Activayion_ReLU:\n",
    "    def forward(self, inputs):\n",
    "        self.output = np.maximum(0,inputs)\n",
    "        \n",
    "layer1 = Layer_Dense(2,5)\n",
    "#layer2 = Layer_Dense(5,2)\n",
    "\n",
    "activation1 = Activayion_ReLU()\n",
    "\n",
    "layer1.forward(X)\n",
    "print(layer1.output)\n",
    "\n",
    "activation1.forward(layer1.output)\n",
    "print(activation1.output)\n",
    "\n",
    "#layer2.forward(layer1.output)\n",
    "#print(layer2.output)\n"
   ]
  },
  {
   "cell_type": "markdown",
   "metadata": {},
   "source": [
    "#### Video 6 : Softmax activation fonction"
   ]
  },
  {
   "cell_type": "markdown",
   "metadata": {},
   "source": [
    "softmax ? Pourquoi faire ? Pour faire des choix"
   ]
  },
  {
   "cell_type": "code",
   "execution_count": 60,
   "metadata": {},
   "outputs": [
    {
     "name": "stdout",
     "output_type": "stream",
     "text": [
      "[[ 0.00000000e+00  0.00000000e+00  0.00000000e+00  0.00000000e+00\n",
      "   0.00000000e+00]\n",
      " [-8.35815910e-04 -7.90404272e-04 -1.33452215e-03  4.65504476e-04\n",
      "   4.56846319e-05]\n",
      " [-2.39994470e-03  5.93471341e-05 -2.24808278e-03  2.03573145e-04\n",
      "   6.10024319e-04]\n",
      " ...\n",
      " [ 1.13291517e-01 -1.89262286e-01 -2.06855088e-02  8.11079666e-02\n",
      "  -6.71350881e-02]\n",
      " [ 1.34588361e-01 -1.43197834e-01  3.09493989e-02  5.66337556e-02\n",
      "  -6.29687458e-02]\n",
      " [ 1.07817926e-01 -2.00809643e-01 -3.37579325e-02  8.72561932e-02\n",
      "  -6.81458786e-02]]\n",
      "[[0.00000000e+00 0.00000000e+00 0.00000000e+00 0.00000000e+00\n",
      "  0.00000000e+00]\n",
      " [0.00000000e+00 0.00000000e+00 0.00000000e+00 4.65504476e-04\n",
      "  4.56846319e-05]\n",
      " [0.00000000e+00 5.93471341e-05 0.00000000e+00 2.03573145e-04\n",
      "  6.10024319e-04]\n",
      " ...\n",
      " [1.13291517e-01 0.00000000e+00 0.00000000e+00 8.11079666e-02\n",
      "  0.00000000e+00]\n",
      " [1.34588361e-01 0.00000000e+00 3.09493989e-02 5.66337556e-02\n",
      "  0.00000000e+00]\n",
      " [1.07817926e-01 0.00000000e+00 0.00000000e+00 8.72561932e-02\n",
      "  0.00000000e+00]]\n"
     ]
    }
   ],
   "source": [
    "import nnfs\n",
    "from nnfs.datasets import spiral_data\n",
    "nnfs.init()\n",
    "\n",
    "np.random.seed(0)\n",
    "\n",
    "X= [[1, 2 ,3, 2.5],\n",
    "    [2.0, 5.0,-1.0, 2.0],\n",
    "    [-1.5, 2.7, 3.3, -0.8]]\n",
    "\n",
    "X, y = spiral_data(100,3)\n",
    "    \n",
    "class Layer_Dense:\n",
    "    def __init__(self, n_inputs, n_neurons):\n",
    "        self.weights = 0.1 * np.random.randn(n_inputs, n_neurons)\n",
    "        self.biases = np.zeros((1, n_neurons))\n",
    "    def forward(self, inputs):\n",
    "        self.output = inputs @ self.weights + self.biases\n",
    "        \n",
    "class Activayion_ReLU:\n",
    "    def forward(self, inputs):\n",
    "        self.output = np.maximum(0,inputs)\n",
    "        \n",
    "class Activation_Softmax:\n",
    "    def forward(self, inputs):\n",
    "        exp_values = np.exp(inputs - np.max(inputs, axis=1, keepdims=True))\n",
    "        probabilities = exp_values / np.sum(exp_values, axis=1, keepdims=True)\n",
    "        self.output = probabilities\n",
    "        \n",
    "        \n",
    "layer1 = Layer_Dense(2,5)\n",
    "#layer2 = Layer_Dense(5,2)\n",
    "\n",
    "activation1 = Activayion_ReLU()\n",
    "\n",
    "layer1.forward(X)\n",
    "print(layer1.output)\n",
    "\n",
    "activation1.forward(layer1.output)\n",
    "print(activation1.output)\n",
    "\n",
    "#layer2.forward(layer1.output)\n",
    "#print(layer2.output)\n"
   ]
  },
  {
   "cell_type": "markdown",
   "metadata": {},
   "source": [
    "#### Video 7 : Calculating Loss with Categorical Cross-Entropy"
   ]
  },
  {
   "cell_type": "markdown",
   "metadata": {},
   "source": [
    "On veux avoir des probabilité es sortie de notre reseaux\n",
    "Comment savoir de cb otre model est loin? On utilise la categorical cross entropie\n",
    "L = sum(-log(yi))\n",
    "\n",
    "**One hot encoding :**\n",
    "\n",
    "Class : 2 | Label : 0 => One-hot : [***1***, 0] \n",
    "\n",
    "Class : 4 | Label : 1 => One-hot : [0, ***1***, 0, 0] \n",
    "\n",
    "------\n",
    "On ajoute maintenant la Prediction a cette algorithme\n",
    "\n",
    "Class : 3 | Label : 0 => One-hot : [***1***, 0, 0] => Prediction (Soft max): [0.7,0.1, 0.2]\n",
    "\n",
    "Ici Loss = - (***1*** x log(0.7) + 0 x log(0.1) + 0 x log(0.2)) = 0.35...."
   ]
  },
  {
   "cell_type": "markdown",
   "metadata": {},
   "source": [
    "**Exemple :**"
   ]
  },
  {
   "cell_type": "code",
   "execution_count": 61,
   "metadata": {},
   "outputs": [
    {
     "name": "stdout",
     "output_type": "stream",
     "text": [
      "0.35667494393873245\n"
     ]
    }
   ],
   "source": [
    "import math\n",
    "\n",
    "softmax_output = [0.7, 0.1, 0.2]\n",
    "#target_class = 0\n",
    "#cela signifie que \n",
    "target_output = [1, 0, 0]\n",
    "\n",
    "loss = np.sum(-np.log(np.array(softmax_output))*np.array(target_output))\n",
    "print(loss)"
   ]
  },
  {
   "cell_type": "markdown",
   "metadata": {},
   "source": [
    "#### Video 8 :"
   ]
  },
  {
   "cell_type": "markdown",
   "metadata": {},
   "source": [
    "Comment on l'implemente dans notre framework"
   ]
  },
  {
   "cell_type": "code",
   "execution_count": 72,
   "metadata": {},
   "outputs": [
    {
     "name": "stdout",
     "output_type": "stream",
     "text": [
      "[0.35667494 0.69314718 0.10536052]\n"
     ]
    }
   ],
   "source": [
    "softmax_outputs = np.array([[0.7, 0.1, 0.2],\n",
    "                            [0.1, 0.5, 0.4],\n",
    "                            [0.02, 0.9, 0.08]])\n",
    "\n",
    "class_targets = [0, 1, 1]\n",
    "\n",
    "# print([[0, 1, 2], class_targets])\n",
    "# print(softmax_outputs)\n",
    "# print(softmax_outputs[[0, 1, 2]])\n",
    "# print(softmax_outputs[[0,0,0],1])\n",
    "# print(softmax_outputs[[choix des ligne],[choix des colonnes]])\n",
    "#print(range(len(softmax_outputs)), class_targets)\n",
    "print(-np.log(softmax_outputs[range(len(softmax_outputs)), class_targets]) )   # type: ignore "
   ]
  },
  {
   "cell_type": "markdown",
   "metadata": {},
   "source": [
    "Comment on gere 0?\n",
    "On peut bloquer les valeurs"
   ]
  },
  {
   "cell_type": "code",
   "execution_count": 77,
   "metadata": {},
   "outputs": [
    {
     "name": "stdout",
     "output_type": "stream",
     "text": [
      "1.0985749\n"
     ]
    }
   ],
   "source": [
    "import nnfs\n",
    "from nnfs.datasets import spiral_data\n",
    "nnfs.init()\n",
    "\n",
    "np.random.seed(0)\n",
    "\n",
    "X= [[1, 2 ,3, 2.5],\n",
    "    [2.0, 5.0,-1.0, 2.0],\n",
    "    [-1.5, 2.7, 3.3, -0.8]]\n",
    "\n",
    "X, y = spiral_data(100,3)\n",
    "    \n",
    "class Layer_Dense:\n",
    "    def __init__(self, n_inputs, n_neurons):\n",
    "        self.weights = 0.1 * np.random.randn(n_inputs, n_neurons)\n",
    "        self.biases = np.zeros((1, n_neurons))\n",
    "    def forward(self, inputs):\n",
    "        self.output = inputs @ self.weights + self.biases\n",
    "        \n",
    "class Activayion_ReLU:\n",
    "    def forward(self, inputs):\n",
    "        self.output = np.maximum(0,inputs)\n",
    "        \n",
    "class Activation_Softmax:\n",
    "    def forward(self, inputs):\n",
    "        exp_values = np.exp(inputs - np.max(inputs, axis=1, keepdims=True))\n",
    "        probabilities = exp_values / np.sum(exp_values, axis=1, keepdims=True)\n",
    "        self.output = probabilities\n",
    "        \n",
    "class Loss: \n",
    "    def calculate(self, output, y):\n",
    "        sample_losses = self.forward(output, y)  # type: ignore\n",
    "        data_loss = np.mean(sample_losses)\n",
    "        return data_loss\n",
    "    \n",
    "class Loss_CategoricalCrossEntropy(Loss): \n",
    "    def forward(self, y_pred, y_true):\n",
    "        samples = len(y_pred)\n",
    "        y_pred_clipped = np.clip(y_pred, 1e-7, 1-1e-7)\n",
    "        \n",
    "        if len(y_true.shape) == 1:\n",
    "            correct_confidences = y_pred_clipped[range(samples), y_true]\n",
    "        \n",
    "        elif len(y_true.shape) == 2:\n",
    "            correct_confidences = np.sum(y_pred_clipped*y_true, axis=1)\n",
    "        \n",
    "        negative_log_likelihoods = -np.log(correct_confidences)\n",
    "        return negative_log_likelihoods\n",
    "        \n",
    "        \n",
    "X,y = spiral_data(samples=100, classes=3)\n",
    "\n",
    "dense1 = Layer_Dense(2, 3)\n",
    "activation1 = Activayion_ReLU()\n",
    "\n",
    "dense2 = Layer_Dense(3,3)\n",
    "activation2 = Activation_Softmax()\n",
    "\n",
    "dense1.forward(X)\n",
    "activation1.forward(dense1.output)\n",
    "\n",
    "dense2.forward(activation1.output)\n",
    "activation2.forward(dense2.output)\n",
    "\n",
    "#print(activation2.output[:5])\n",
    "\n",
    "loss_function = Loss_CategoricalCrossEntropy()\n",
    "\n",
    "loss = loss_function.calculate(activation2.output, y)\n",
    "\n",
    "print(loss)\n",
    "\n"
   ]
  }
 ],
 "metadata": {
  "kernelspec": {
   "display_name": "Python 3.9.12 ('OC_library')",
   "language": "python",
   "name": "python3"
  },
  "language_info": {
   "codemirror_mode": {
    "name": "ipython",
    "version": 3
   },
   "file_extension": ".py",
   "mimetype": "text/x-python",
   "name": "python",
   "nbconvert_exporter": "python",
   "pygments_lexer": "ipython3",
   "version": "3.9.12"
  },
  "orig_nbformat": 4,
  "vscode": {
   "interpreter": {
    "hash": "2f43c9b916d3b44a8b7c02f385ad4db6e8dcb5cb089487eeac82ee13e9872666"
   }
  }
 },
 "nbformat": 4,
 "nbformat_minor": 2
}
